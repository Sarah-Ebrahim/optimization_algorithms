{
  "nbformat": 4,
  "nbformat_minor": 0,
  "metadata": {
    "kernelspec": {
      "display_name": "Python 3",
      "language": "python",
      "name": "python3"
    },
    "language_info": {
      "codemirror_mode": {
        "name": "ipython",
        "version": 3
      },
      "file_extension": ".py",
      "mimetype": "text/x-python",
      "name": "python",
      "nbconvert_exporter": "python",
      "pygments_lexer": "ipython3",
      "version": "3.8.3"
    },
    "colab": {
      "name": "NOFDS_HW4.ipynb",
      "provenance": []
    }
  },
  "cells": [
    {
      "cell_type": "code",
      "metadata": {
        "id": "hK9w-YDuQ-zt"
      },
      "source": [
        "import matplotlib.pyplot as plt\n",
        "%matplotlib inline\n",
        "import numpy as np\n",
        "import pandas as pd\n",
        "from sklearn.metrics import r2_score\n",
        "from math import sqrt"
      ],
      "execution_count": null,
      "outputs": []
    },
    {
      "cell_type": "code",
      "metadata": {
        "id": "5Fg0-wyoQ-z6",
        "outputId": "ddbcc7cd-7213-461a-f974-6eb87c72edb3"
      },
      "source": [
        "df = pd.read_csv(\"sparse.csv\")\n",
        "arr = df.values\n",
        "print(arr)"
      ],
      "execution_count": null,
      "outputs": [
        {
          "name": "stdout",
          "output_type": "stream",
          "text": [
            "[[ 93  88  93   0 185]\n",
            " [ 89  91  90   0 180]\n",
            " [ 96  98 100   0 196]\n",
            " [ 73  66  70   1 142]\n",
            " [ 53  46  55   0 101]\n",
            " [ 69  74  77   0 149]\n",
            " [ 47  56  60   1 115]\n",
            " [ 87  79  90   0 175]\n",
            " [ 79  70  88   0 164]\n",
            " [ 69  70  73   0 141]\n",
            " [ 70  65  74   0 141]\n",
            " [ 93  95  91   1 184]\n",
            " [ 79  80  73   1 152]\n",
            " [ 70  73  78   0 148]\n",
            " [ 93  89  96   1 192]\n",
            " [ 78  75  68   0 147]\n",
            " [ 81  90  93   0 183]\n",
            " [ 88  92  86   1 177]\n",
            " [ 78  83  77   1 159]\n",
            " [ 82  86  90   0 177]\n",
            " [ 86  82  89   1 175]\n",
            " [ 78  83  85   0 175]\n",
            " [ 76  83  71   0 149]\n",
            " [ 96  93  95   1 192]]\n"
          ]
        }
      ]
    },
    {
      "cell_type": "code",
      "metadata": {
        "id": "se8nZTNKQ-z-",
        "outputId": "c5a1165e-4883-44a3-bedf-968d15b37a79"
      },
      "source": [
        "x_ = arr[:, 0:len(arr[0])-1]\n",
        "y_ = arr[:, len(arr[0])-1]\n",
        "print(x_)\n",
        "print(y_)"
      ],
      "execution_count": null,
      "outputs": [
        {
          "name": "stdout",
          "output_type": "stream",
          "text": [
            "[[ 93  88  93   0]\n",
            " [ 89  91  90   0]\n",
            " [ 96  98 100   0]\n",
            " [ 73  66  70   1]\n",
            " [ 53  46  55   0]\n",
            " [ 69  74  77   0]\n",
            " [ 47  56  60   1]\n",
            " [ 87  79  90   0]\n",
            " [ 79  70  88   0]\n",
            " [ 69  70  73   0]\n",
            " [ 70  65  74   0]\n",
            " [ 93  95  91   1]\n",
            " [ 79  80  73   1]\n",
            " [ 70  73  78   0]\n",
            " [ 93  89  96   1]\n",
            " [ 78  75  68   0]\n",
            " [ 81  90  93   0]\n",
            " [ 88  92  86   1]\n",
            " [ 78  83  77   1]\n",
            " [ 82  86  90   0]\n",
            " [ 86  82  89   1]\n",
            " [ 78  83  85   0]\n",
            " [ 76  83  71   0]\n",
            " [ 96  93  95   1]]\n",
            "[185 180 196 142 101 149 115 175 164 141 141 184 152 148 192 147 183 177\n",
            " 159 177 175 175 149 192]\n"
          ]
        }
      ]
    },
    {
      "cell_type": "code",
      "metadata": {
        "id": "YKO7nqmFQ-0B",
        "outputId": "020e77d5-45e7-40a7-a7e7-d534c7e82d38"
      },
      "source": [
        "def adagrad(x, y, epsilon, alpha, max_iterations):\n",
        "    x = np.column_stack((np.ones(len(x), dtype = int), x))\n",
        "    y = y.reshape(-1, 1)\n",
        "    theta = np.zeros(((x.shape)[1],1))\n",
        "    v = np.zeros((x.shape[1],1))\n",
        "    m = (x.shape)[0]\n",
        "    cost_list = []\n",
        "    hypo = x_updated @ theta\n",
        "    for i in range(max_iterations):\n",
        "        grad_theta = (1/m) * (x.T @ (hypo - y))\n",
        "        v += grad_theta ** 2\n",
        "        theta -= (alpha/(np.sqrt(v) + epsilon)) * grad_theta\n",
        "        hypo = x @ theta\n",
        "        difference = hypo - y\n",
        "        cost = (1/(2*m)) *np.linalg.norm((difference)**2)\n",
        "        cost_list.append(cost)\n",
        "        if i>0:\n",
        "            if np.linalg.norm([grad_theta]) < 0.001:\n",
        "                break\n",
        "            elif np.absolute(cost_list[i] - cost_list[i-1]) < 0.001:\n",
        "                break\n",
        "    return theta, cost_list\n",
        "\n",
        "theta, cost_list = adagrad(x_, y_, 1e-8, 0.2, 10000)\n",
        "x = np.column_stack((np.ones(len(x_), dtype = int), x_))\n",
        "y_predicted = x @ theta\n",
        "print(r2_score(y_, y_predicted))\n",
        "#print(y_predicted)"
      ],
      "execution_count": null,
      "outputs": [
        {
          "name": "stdout",
          "output_type": "stream",
          "text": [
            "0.9781275860215872\n"
          ]
        }
      ]
    },
    {
      "cell_type": "code",
      "metadata": {
        "id": "_NHt0RALQ-0E",
        "outputId": "bd359cfe-a58c-4cd7-9b98-61e52a4d9296"
      },
      "source": [
        "plt.plot(list(range(len(cost_list))) , cost_list)\n",
        "plt.show"
      ],
      "execution_count": null,
      "outputs": [
        {
          "data": {
            "text/plain": [
              "<function matplotlib.pyplot.show(*args, **kw)>"
            ]
          },
          "execution_count": 125,
          "metadata": {},
          "output_type": "execute_result"
        },
        {
          "data": {
            "image/png": "[encoded data removed]",
            "text/plain": [
              "<Figure size 432x288 with 1 Axes>"
            ]
          },
          "metadata": {
            "needs_background": "light"
          },
          "output_type": "display_data"
        }
      ]
    },
    {
      "cell_type": "code",
      "metadata": {
        "id": "5MJz-wJ9Q-0G",
        "outputId": "20c5a70f-1630-45a3-b57e-097d5a5723fb"
      },
      "source": [
        "def RMSProp(x, y, epsilon, alpha, beta, max_iterations):\n",
        "    x = np.column_stack((np.ones(len(x), dtype = int), x))\n",
        "    y = y.reshape(-1, 1)\n",
        "    theta = np.zeros(((x.shape)[1],1))\n",
        "    v = np.zeros((x.shape[1],1))\n",
        "    m = (x.shape)[0]\n",
        "    cost_list = []\n",
        "    hypo = x_updated @ theta\n",
        "    for i in range(max_iterations):\n",
        "        grad_theta = (1/m) * (x.T @ (hypo - y))\n",
        "        v = beta * v + (1 - beta) * (grad_theta ** 2)\n",
        "        theta -= (alpha/(np.sqrt(v) + epsilon)) * grad_theta\n",
        "        hypo = x @ theta\n",
        "        difference = hypo - y\n",
        "        cost = (1/(2*m)) *np.linalg.norm((difference)**2)\n",
        "        cost_list.append(cost)\n",
        "        if i>0:\n",
        "            if np.linalg.norm([grad_theta]) < 0.001:\n",
        "                break\n",
        "            elif np.absolute(cost_list[i] - cost_list[i-1]) < 0.001:\n",
        "                break\n",
        "    return theta, cost_list\n",
        "\n",
        "theta, cost_list = RMSProp(x_, y_, 1e-8, 0.2, 0.98, 10000)\n",
        "x = np.column_stack((np.ones(len(x_), dtype = int), x_))\n",
        "y_predicted = x @ theta\n",
        "print(r2_score(y_, y_predicted))\n",
        "#print(y_predicted)"
      ],
      "execution_count": null,
      "outputs": [
        {
          "name": "stdout",
          "output_type": "stream",
          "text": [
            "0.9783938657093575\n"
          ]
        }
      ]
    },
    {
      "cell_type": "code",
      "metadata": {
        "id": "cAZAXvlhQ-0K",
        "outputId": "d3da8b50-ce1c-462e-f1a6-23a72125ff16"
      },
      "source": [
        "plt.plot(list(range(len(cost_list))) , cost_list)\n",
        "plt.show"
      ],
      "execution_count": null,
      "outputs": [
        {
          "data": {
            "text/plain": [
              "<function matplotlib.pyplot.show(*args, **kw)>"
            ]
          },
          "execution_count": 127,
          "metadata": {},
          "output_type": "execute_result"
        },
        {
          "data": {
            "image/png": "[encoded data removed]",
            "text/plain": [
              "<Figure size 432x288 with 1 Axes>"
            ]
          },
          "metadata": {
            "needs_background": "light"
          },
          "output_type": "display_data"
        }
      ]
    },
    {
      "cell_type": "code",
      "metadata": {
        "id": "5l1hFoscQ-0N",
        "outputId": "cddfe592-cf90-447b-93dc-b19a7c49c6a5"
      },
      "source": [
        "def Adam(x, y, epsilon, alpha, beta1, beta2, max_iterations):\n",
        "    x = np.column_stack((np.ones(len(x), dtype = int), x))\n",
        "    y = y.reshape(-1, 1)\n",
        "    theta = np.zeros(((x.shape)[1],1))\n",
        "    v = np.zeros((x.shape[1],1))\n",
        "    m = np.zeros((x.shape[1],1))\n",
        "    w = (x.shape)[0]\n",
        "    cost_list = []\n",
        "    hypo = x_updated @ theta\n",
        "    for i in range(max_iterations):\n",
        "        grad_theta = (1/w)*(x.T @ (hypo - y))\n",
        "        m = beta1 * m + (1 - beta1) * grad_theta\n",
        "        m = m / (1 - (beta1 ** (i + 1)))\n",
        "        v = beta2 * v + (1 - beta2) * (grad_theta ** 2)\n",
        "        v = v / (1 - (beta2 ** (i + 1)))\n",
        "        theta -= (alpha/(np.sqrt(v) + epsilon)) * m\n",
        "        hypo = x @ theta\n",
        "        difference = hypo - y\n",
        "        cost = (1/(2*w)) *np.linalg.norm((difference)**2)\n",
        "        cost_list.append(cost)\n",
        "        if i>0:\n",
        "            if np.linalg.norm([grad_theta]) < 0.001:\n",
        "                break\n",
        "            elif np.absolute(cost_list[i] - cost_list[i-1]) < 0.001:\n",
        "                break\n",
        "    return theta, cost_list\n",
        "theta, cost_list = Adam(x_, y_, 1e-8, 0.5, 0.5, 0.95, 10000)\n",
        "x = np.column_stack((np.ones(len(x_), dtype = int), x_))\n",
        "y_predicted = x @ theta\n",
        "print(r2_score(y_, y_predicted))\n",
        "#print(y_predicted)"
      ],
      "execution_count": null,
      "outputs": [
        {
          "name": "stdout",
          "output_type": "stream",
          "text": [
            "0.9763851213428447\n"
          ]
        }
      ]
    },
    {
      "cell_type": "code",
      "metadata": {
        "id": "ZDZVHKzgQ-0T",
        "outputId": "f3f08dda-8404-4b47-c4a9-3e5d0cce9e19"
      },
      "source": [
        "plt.plot(list(range(len(cost_list))) , cost_list)\n",
        "plt.show"
      ],
      "execution_count": null,
      "outputs": [
        {
          "data": {
            "text/plain": [
              "<function matplotlib.pyplot.show(*args, **kw)>"
            ]
          },
          "execution_count": 130,
          "metadata": {},
          "output_type": "execute_result"
        },
        {
          "data": {
            "image/png": "[encoded data removed]",
            "text/plain": [
              "<Figure size 432x288 with 1 Axes>"
            ]
          },
          "metadata": {
            "needs_background": "light"
          },
          "output_type": "display_data"
        }
      ]
    },
    {
      "cell_type": "code",
      "metadata": {
        "id": "APr5jxT0Q-0W"
      },
      "source": [
        ""
      ],
      "execution_count": null,
      "outputs": []
    }
  ]
}